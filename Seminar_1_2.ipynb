{
  "nbformat": 4,
  "nbformat_minor": 0,
  "metadata": {
    "kernelspec": {
      "display_name": "Python 3",
      "language": "python",
      "name": "python3"
    },
    "language_info": {
      "codemirror_mode": {
        "name": "ipython",
        "version": 3
      },
      "file_extension": ".py",
      "mimetype": "text/x-python",
      "name": "python",
      "nbconvert_exporter": "python",
      "pygments_lexer": "ipython3",
      "version": "3.7.3"
    },
    "colab": {
      "name": "Seminar 1 2.ipynb",
      "provenance": [],
      "collapsed_sections": [],
      "include_colab_link": true
    }
  },
  "cells": [
    {
      "cell_type": "markdown",
      "metadata": {
        "id": "view-in-github",
        "colab_type": "text"
      },
      "source": [
        "<a href=\"https://colab.research.google.com/github/vsilchev/hse-intro-ml/blob/master/Seminar_1_2.ipynb\" target=\"_parent\"><img src=\"https://colab.research.google.com/assets/colab-badge.svg\" alt=\"Open In Colab\"/></a>"
      ]
    },
    {
      "cell_type": "markdown",
      "metadata": {
        "id": "EcwvY-yZR1Gh",
        "colab_type": "text"
      },
      "source": [
        "# Introduction to Machine Learning. Seminars 1-2"
      ]
    },
    {
      "cell_type": "markdown",
      "metadata": {
        "id": "fcx_xYZxSGng",
        "colab_type": "text"
      },
      "source": [
        "## Content\n",
        "\n",
        "1. About Jupyter Notebooks\n",
        "1. Lists\n",
        "1. Tuples\n",
        "1. Dictionaries\n",
        "1. List/Tuple/Dict Comprehensions\n",
        "1. zip() (built-in function)"
      ]
    },
    {
      "cell_type": "markdown",
      "metadata": {
        "id": "3lYk_NYbYKBy",
        "colab_type": "text"
      },
      "source": [
        "## About Jupyter Notebooks"
      ]
    },
    {
      "cell_type": "markdown",
      "metadata": {
        "id": "k6Bcopx-JoNY",
        "colab_type": "text"
      },
      "source": [
        "Each code cell has an Input and may has an Output. The output is the result of the last command if it returns any value.\n",
        "\n",
        "Inputs and Outputs of code cells are stored in buil-in variables In (list) and Out (dict)"
      ]
    },
    {
      "cell_type": "code",
      "metadata": {
        "id": "mTiTKyI_YIyE",
        "colab_type": "code",
        "outputId": "cb482e2b-e4c6-4863-e876-626bcf214ad0",
        "colab": {
          "base_uri": "https://localhost:8080/",
          "height": 36
        }
      },
      "source": [
        "a = 5\n",
        "b = 7\n",
        "a + b # this expression returns a value"
      ],
      "execution_count": 1,
      "outputs": [
        {
          "output_type": "execute_result",
          "data": {
            "text/plain": [
              "12"
            ]
          },
          "metadata": {
            "tags": []
          },
          "execution_count": 1
        }
      ]
    },
    {
      "cell_type": "code",
      "metadata": {
        "id": "BhW0Jn8sKO_P",
        "colab_type": "code",
        "outputId": "42e738a5-61ab-4839-f34b-082a59ea7c54",
        "colab": {
          "base_uri": "https://localhost:8080/",
          "height": 36
        }
      },
      "source": [
        "a = 5\n",
        "b = 7\n",
        "print(a + b) # print() function does not return any value (actually, it returns None), thus"
      ],
      "execution_count": 2,
      "outputs": [
        {
          "output_type": "stream",
          "text": [
            "12\n"
          ],
          "name": "stdout"
        }
      ]
    },
    {
      "cell_type": "code",
      "metadata": {
        "id": "PjPMg3YPNrqH",
        "colab_type": "code",
        "colab": {
          "base_uri": "https://localhost:8080/",
          "height": 130
        },
        "outputId": "1b38ade4-f643-4478-eb0b-6f1684f8b605"
      },
      "source": [
        "# suppose you run cells one by one\n",
        "print(In[1]) \n",
        "print(In[2])"
      ],
      "execution_count": 3,
      "outputs": [
        {
          "output_type": "stream",
          "text": [
            "a = 5\n",
            "b = 7\n",
            "a + b # this expression returns a value\n",
            "a = 5\n",
            "b = 7\n",
            "print(a + b) # print() function does not return any value (actually, it returns None), thus\n"
          ],
          "name": "stdout"
        }
      ]
    },
    {
      "cell_type": "code",
      "metadata": {
        "id": "D9vSNWAtKaC2",
        "colab_type": "code",
        "outputId": "25328a33-c3a0-49a7-f721-93a28ff3ae19",
        "colab": {
          "base_uri": "https://localhost:8080/",
          "height": 211
        }
      },
      "source": [
        "# suppose you run cells one by one\n",
        "print(Out[1]) \n",
        "print(Out[2])"
      ],
      "execution_count": 4,
      "outputs": [
        {
          "output_type": "stream",
          "text": [
            "12\n"
          ],
          "name": "stdout"
        },
        {
          "output_type": "error",
          "ename": "KeyError",
          "evalue": "ignored",
          "traceback": [
            "\u001b[0;31m---------------------------------------------------------------------------\u001b[0m",
            "\u001b[0;31mKeyError\u001b[0m                                  Traceback (most recent call last)",
            "\u001b[0;32m<ipython-input-4-0ea0450feb78>\u001b[0m in \u001b[0;36m<module>\u001b[0;34m()\u001b[0m\n\u001b[1;32m      1\u001b[0m \u001b[0mprint\u001b[0m\u001b[0;34m(\u001b[0m\u001b[0mOut\u001b[0m\u001b[0;34m[\u001b[0m\u001b[0;36m1\u001b[0m\u001b[0;34m]\u001b[0m\u001b[0;34m)\u001b[0m\u001b[0;34m\u001b[0m\u001b[0;34m\u001b[0m\u001b[0m\n\u001b[0;32m----> 2\u001b[0;31m \u001b[0mprint\u001b[0m\u001b[0;34m(\u001b[0m\u001b[0mOut\u001b[0m\u001b[0;34m[\u001b[0m\u001b[0;36m2\u001b[0m\u001b[0;34m]\u001b[0m\u001b[0;34m)\u001b[0m\u001b[0;34m\u001b[0m\u001b[0;34m\u001b[0m\u001b[0m\n\u001b[0m",
            "\u001b[0;31mKeyError\u001b[0m: 2"
          ]
        }
      ]
    },
    {
      "cell_type": "code",
      "metadata": {
        "id": "BFNn0pQ0Nxa1",
        "colab_type": "code",
        "outputId": "66265675-dc90-46d0-e59e-f9fb32ad1b34",
        "colab": {
          "base_uri": "https://localhost:8080/",
          "height": 55
        }
      },
      "source": [
        "print(type(In)) # type of In variable\n",
        "print(type(Out)) # type of Out variable"
      ],
      "execution_count": 5,
      "outputs": [
        {
          "output_type": "stream",
          "text": [
            "<class 'list'>\n",
            "<class 'dict'>\n"
          ],
          "name": "stdout"
        }
      ]
    },
    {
      "cell_type": "markdown",
      "metadata": {
        "id": "WwPmslnAW2ZJ",
        "colab_type": "text"
      },
      "source": [
        "## Lists"
      ]
    },
    {
      "cell_type": "code",
      "metadata": {
        "id": "fJE6_zqMW1S_",
        "colab_type": "code",
        "colab": {}
      },
      "source": [
        "l = [1, 2, 3, 4, 5]\n",
        "l.append(\"Foo\")"
      ],
      "execution_count": 0,
      "outputs": []
    },
    {
      "cell_type": "code",
      "metadata": {
        "id": "OfpBgMU-XHMx",
        "colab_type": "code",
        "colab": {
          "base_uri": "https://localhost:8080/",
          "height": 36
        },
        "outputId": "82e134c7-7b14-44a8-f8ed-1f85661fcbdd"
      },
      "source": [
        "l[0] # First element"
      ],
      "execution_count": 7,
      "outputs": [
        {
          "output_type": "execute_result",
          "data": {
            "text/plain": [
              "1"
            ]
          },
          "metadata": {
            "tags": []
          },
          "execution_count": 7
        }
      ]
    },
    {
      "cell_type": "code",
      "metadata": {
        "id": "XU0EajXlXdWE",
        "colab_type": "code",
        "colab": {
          "base_uri": "https://localhost:8080/",
          "height": 36
        },
        "outputId": "aaacf680-2946-426a-9d32-6dd199cdbbc5"
      },
      "source": [
        "l[-1] # Last element"
      ],
      "execution_count": 8,
      "outputs": [
        {
          "output_type": "execute_result",
          "data": {
            "text/plain": [
              "'Foo'"
            ]
          },
          "metadata": {
            "tags": []
          },
          "execution_count": 8
        }
      ]
    },
    {
      "cell_type": "code",
      "metadata": {
        "id": "stxYI8TyXmyo",
        "colab_type": "code",
        "colab": {
          "base_uri": "https://localhost:8080/",
          "height": 36
        },
        "outputId": "f844f2d9-3179-487d-f7ca-1513bad48d78"
      },
      "source": [
        "l[1:3] # slice"
      ],
      "execution_count": 9,
      "outputs": [
        {
          "output_type": "execute_result",
          "data": {
            "text/plain": [
              "[2, 3]"
            ]
          },
          "metadata": {
            "tags": []
          },
          "execution_count": 9
        }
      ]
    },
    {
      "cell_type": "code",
      "metadata": {
        "id": "oL3njWjcXyT0",
        "colab_type": "code",
        "colab": {
          "base_uri": "https://localhost:8080/",
          "height": 36
        },
        "outputId": "b70bccc9-c4ee-432c-90a7-00822fa6f9be"
      },
      "source": [
        "l[::-1] # revert list"
      ],
      "execution_count": 10,
      "outputs": [
        {
          "output_type": "execute_result",
          "data": {
            "text/plain": [
              "['Foo', 5, 4, 3, 2, 1]"
            ]
          },
          "metadata": {
            "tags": []
          },
          "execution_count": 10
        }
      ]
    },
    {
      "cell_type": "markdown",
      "metadata": {
        "id": "XK4pJ5nmcGTd",
        "colab_type": "text"
      },
      "source": [
        "## Tuples"
      ]
    },
    {
      "cell_type": "code",
      "metadata": {
        "id": "_157-4CRcGTh",
        "colab_type": "code",
        "colab": {}
      },
      "source": [
        "t = (1, 2, 3, 4, 5)"
      ],
      "execution_count": 0,
      "outputs": []
    },
    {
      "cell_type": "code",
      "metadata": {
        "id": "2BJi9jVBcGTm",
        "colab_type": "code",
        "outputId": "08281cc5-d325-4e70-a8c4-8fa7427145e4",
        "colab": {
          "base_uri": "https://localhost:8080/",
          "height": 36
        }
      },
      "source": [
        "t[::-2]"
      ],
      "execution_count": 12,
      "outputs": [
        {
          "output_type": "execute_result",
          "data": {
            "text/plain": [
              "(5, 3, 1)"
            ]
          },
          "metadata": {
            "tags": []
          },
          "execution_count": 12
        }
      ]
    },
    {
      "cell_type": "code",
      "metadata": {
        "id": "rDnc2QDKcGTr",
        "colab_type": "code",
        "outputId": "d450fa97-563f-41fb-daca-f9c2498c8c4a",
        "colab": {
          "base_uri": "https://localhost:8080/",
          "height": 174
        }
      },
      "source": [
        "t.append(6)"
      ],
      "execution_count": 13,
      "outputs": [
        {
          "output_type": "error",
          "ename": "AttributeError",
          "evalue": "ignored",
          "traceback": [
            "\u001b[0;31m---------------------------------------------------------------------------\u001b[0m",
            "\u001b[0;31mAttributeError\u001b[0m                            Traceback (most recent call last)",
            "\u001b[0;32m<ipython-input-13-d0908ae6cae4>\u001b[0m in \u001b[0;36m<module>\u001b[0;34m()\u001b[0m\n\u001b[0;32m----> 1\u001b[0;31m \u001b[0mt\u001b[0m\u001b[0;34m.\u001b[0m\u001b[0mappend\u001b[0m\u001b[0;34m(\u001b[0m\u001b[0;36m6\u001b[0m\u001b[0;34m)\u001b[0m\u001b[0;34m\u001b[0m\u001b[0;34m\u001b[0m\u001b[0m\n\u001b[0m",
            "\u001b[0;31mAttributeError\u001b[0m: 'tuple' object has no attribute 'append'"
          ]
        }
      ]
    },
    {
      "cell_type": "code",
      "metadata": {
        "id": "jjsStrNFcGTv",
        "colab_type": "code",
        "outputId": "a74b9804-19fd-4f8f-8a80-073b876916cc",
        "colab": {
          "base_uri": "https://localhost:8080/",
          "height": 36
        }
      },
      "source": [
        "t + tuple([1, 2, 3])"
      ],
      "execution_count": 14,
      "outputs": [
        {
          "output_type": "execute_result",
          "data": {
            "text/plain": [
              "(1, 2, 3, 4, 5, 1, 2, 3)"
            ]
          },
          "metadata": {
            "tags": []
          },
          "execution_count": 14
        }
      ]
    },
    {
      "cell_type": "code",
      "metadata": {
        "id": "JpJIMqDKcGTx",
        "colab_type": "code",
        "colab": {}
      },
      "source": [
        "a, b, c, d, e = t"
      ],
      "execution_count": 0,
      "outputs": []
    },
    {
      "cell_type": "code",
      "metadata": {
        "id": "b9t2DPdacGTz",
        "colab_type": "code",
        "colab": {
          "base_uri": "https://localhost:8080/",
          "height": 36
        },
        "outputId": "c8f3c7f5-dd06-4b26-c6dd-297761611036"
      },
      "source": [
        "a"
      ],
      "execution_count": 16,
      "outputs": [
        {
          "output_type": "execute_result",
          "data": {
            "text/plain": [
              "1"
            ]
          },
          "metadata": {
            "tags": []
          },
          "execution_count": 16
        }
      ]
    },
    {
      "cell_type": "code",
      "metadata": {
        "id": "fqy-93nucGT0",
        "colab_type": "code",
        "outputId": "dc0ca170-dba5-479f-ac28-603bb616a382",
        "colab": {
          "base_uri": "https://localhost:8080/",
          "height": 36
        }
      },
      "source": [
        "b"
      ],
      "execution_count": 17,
      "outputs": [
        {
          "output_type": "execute_result",
          "data": {
            "text/plain": [
              "2"
            ]
          },
          "metadata": {
            "tags": []
          },
          "execution_count": 17
        }
      ]
    },
    {
      "cell_type": "code",
      "metadata": {
        "id": "0UPUe1fHcGT2",
        "colab_type": "code",
        "colab": {}
      },
      "source": [
        "a, b = b, a"
      ],
      "execution_count": 0,
      "outputs": []
    },
    {
      "cell_type": "code",
      "metadata": {
        "id": "cVTrwb84cGT4",
        "colab_type": "code",
        "colab": {
          "base_uri": "https://localhost:8080/",
          "height": 36
        },
        "outputId": "b3ac5a58-16b2-4c8d-eada-9f6df6b59fca"
      },
      "source": [
        "a"
      ],
      "execution_count": 19,
      "outputs": [
        {
          "output_type": "execute_result",
          "data": {
            "text/plain": [
              "2"
            ]
          },
          "metadata": {
            "tags": []
          },
          "execution_count": 19
        }
      ]
    },
    {
      "cell_type": "code",
      "metadata": {
        "id": "RX1ydkMFcGT6",
        "colab_type": "code",
        "colab": {
          "base_uri": "https://localhost:8080/",
          "height": 36
        },
        "outputId": "130e4e24-7a6e-401c-c9c4-a05ac04b1a41"
      },
      "source": [
        "b"
      ],
      "execution_count": 20,
      "outputs": [
        {
          "output_type": "execute_result",
          "data": {
            "text/plain": [
              "1"
            ]
          },
          "metadata": {
            "tags": []
          },
          "execution_count": 20
        }
      ]
    },
    {
      "cell_type": "code",
      "metadata": {
        "id": "MGBgbM3ucGT7",
        "colab_type": "code",
        "outputId": "f7ecb1d7-f273-459c-ebac-b8d45858f032",
        "colab": {
          "base_uri": "https://localhost:8080/",
          "height": 36
        }
      },
      "source": [
        "z = (1, [2, 3])\n",
        "z[1].append(4)\n",
        "print(z)"
      ],
      "execution_count": 21,
      "outputs": [
        {
          "output_type": "stream",
          "text": [
            "(1, [2, 3, 4])\n"
          ],
          "name": "stdout"
        }
      ]
    },
    {
      "cell_type": "markdown",
      "metadata": {
        "id": "SC6VB7jIcGT9",
        "colab_type": "text"
      },
      "source": [
        "## Dictionaries"
      ]
    },
    {
      "cell_type": "code",
      "metadata": {
        "id": "VpfKNElWcGT-",
        "colab_type": "code",
        "colab": {}
      },
      "source": [
        "my_dict = {\"a\": 1, \"b\": 2, \"c\": 3}"
      ],
      "execution_count": 0,
      "outputs": []
    },
    {
      "cell_type": "code",
      "metadata": {
        "id": "1leDWnHvcGUA",
        "colab_type": "code",
        "colab": {}
      },
      "source": [
        "dict_of_points = {(0, 0): 18, (1, 5): 43}"
      ],
      "execution_count": 0,
      "outputs": []
    },
    {
      "cell_type": "code",
      "metadata": {
        "id": "-bZxuZvncGUB",
        "colab_type": "code",
        "outputId": "03ef5c8a-0f1d-4a07-8d4c-a892fdff968f",
        "colab": {
          "base_uri": "https://localhost:8080/",
          "height": 36
        }
      },
      "source": [
        "my_dict['a']"
      ],
      "execution_count": 24,
      "outputs": [
        {
          "output_type": "execute_result",
          "data": {
            "text/plain": [
              "1"
            ]
          },
          "metadata": {
            "tags": []
          },
          "execution_count": 24
        }
      ]
    },
    {
      "cell_type": "code",
      "metadata": {
        "id": "Slc8QSOrcGUD",
        "colab_type": "code",
        "outputId": "506c4156-279f-446a-f26a-4a8240f669b6",
        "colab": {
          "base_uri": "https://localhost:8080/",
          "height": 174
        }
      },
      "source": [
        "my_dict['x']"
      ],
      "execution_count": 25,
      "outputs": [
        {
          "output_type": "error",
          "ename": "KeyError",
          "evalue": "ignored",
          "traceback": [
            "\u001b[0;31m---------------------------------------------------------------------------\u001b[0m",
            "\u001b[0;31mKeyError\u001b[0m                                  Traceback (most recent call last)",
            "\u001b[0;32m<ipython-input-25-ea025984a599>\u001b[0m in \u001b[0;36m<module>\u001b[0;34m()\u001b[0m\n\u001b[0;32m----> 1\u001b[0;31m \u001b[0mmy_dict\u001b[0m\u001b[0;34m[\u001b[0m\u001b[0;34m'x'\u001b[0m\u001b[0;34m]\u001b[0m\u001b[0;34m\u001b[0m\u001b[0;34m\u001b[0m\u001b[0m\n\u001b[0m",
            "\u001b[0;31mKeyError\u001b[0m: 'x'"
          ]
        }
      ]
    },
    {
      "cell_type": "code",
      "metadata": {
        "id": "UgDjmefAcGUF",
        "colab_type": "code",
        "outputId": "50513fbc-423c-4843-d8fd-21026d04ecec",
        "colab": {
          "base_uri": "https://localhost:8080/",
          "height": 36
        }
      },
      "source": [
        "res = my_dict.get('x', 0)\n",
        "res"
      ],
      "execution_count": 26,
      "outputs": [
        {
          "output_type": "execute_result",
          "data": {
            "text/plain": [
              "0"
            ]
          },
          "metadata": {
            "tags": []
          },
          "execution_count": 26
        }
      ]
    },
    {
      "cell_type": "code",
      "metadata": {
        "id": "Flj0MBzFcGUH",
        "colab_type": "code",
        "outputId": "3daa24ab-b324-4f07-fa50-c1a436f567b7",
        "colab": {
          "base_uri": "https://localhost:8080/",
          "height": 36
        }
      },
      "source": [
        "dict_of_points[(0,0)]"
      ],
      "execution_count": 27,
      "outputs": [
        {
          "output_type": "execute_result",
          "data": {
            "text/plain": [
              "18"
            ]
          },
          "metadata": {
            "tags": []
          },
          "execution_count": 27
        }
      ]
    },
    {
      "cell_type": "code",
      "metadata": {
        "id": "O2H13ViOcGUM",
        "colab_type": "code",
        "colab": {}
      },
      "source": [
        "from collections import OrderedDict"
      ],
      "execution_count": 0,
      "outputs": []
    },
    {
      "cell_type": "code",
      "metadata": {
        "id": "C0FPypdDcGUO",
        "colab_type": "code",
        "colab": {}
      },
      "source": [
        "my_ordered_dict = OrderedDict(my_dict)"
      ],
      "execution_count": 0,
      "outputs": []
    },
    {
      "cell_type": "code",
      "metadata": {
        "id": "eyJuhoaccGUQ",
        "colab_type": "code",
        "outputId": "a98bd7f1-9cf9-46d7-d438-b7c302b8d9b3",
        "colab": {
          "base_uri": "https://localhost:8080/",
          "height": 36
        }
      },
      "source": [
        "my_ordered_dict"
      ],
      "execution_count": 30,
      "outputs": [
        {
          "output_type": "execute_result",
          "data": {
            "text/plain": [
              "OrderedDict([('a', 1), ('b', 2), ('c', 3)])"
            ]
          },
          "metadata": {
            "tags": []
          },
          "execution_count": 30
        }
      ]
    },
    {
      "cell_type": "code",
      "metadata": {
        "id": "fqvEHi4OcGUY",
        "colab_type": "code",
        "outputId": "063f0445-abe0-470e-a247-bbadb39f790b",
        "colab": {
          "base_uri": "https://localhost:8080/",
          "height": 36
        }
      },
      "source": [
        "my_dict"
      ],
      "execution_count": 32,
      "outputs": [
        {
          "output_type": "execute_result",
          "data": {
            "text/plain": [
              "{'a': 1, 'b': 2, 'c': 3}"
            ]
          },
          "metadata": {
            "tags": []
          },
          "execution_count": 32
        }
      ]
    },
    {
      "cell_type": "markdown",
      "metadata": {
        "id": "FFt00K6DcGUa",
        "colab_type": "text"
      },
      "source": [
        "### Length"
      ]
    },
    {
      "cell_type": "code",
      "metadata": {
        "id": "VkUCWr3ncGUa",
        "colab_type": "code",
        "outputId": "4a023278-bb36-4086-d0f1-21995fce8f5c",
        "colab": {
          "base_uri": "https://localhost:8080/",
          "height": 36
        }
      },
      "source": [
        "len(l)"
      ],
      "execution_count": 34,
      "outputs": [
        {
          "output_type": "execute_result",
          "data": {
            "text/plain": [
              "5"
            ]
          },
          "metadata": {
            "tags": []
          },
          "execution_count": 34
        }
      ]
    },
    {
      "cell_type": "code",
      "metadata": {
        "id": "TF2wqzTJcGUc",
        "colab_type": "code",
        "outputId": "75390cd2-27ae-417d-abb9-df7f190e6571",
        "colab": {
          "base_uri": "https://localhost:8080/",
          "height": 36
        }
      },
      "source": [
        "len(t)"
      ],
      "execution_count": 35,
      "outputs": [
        {
          "output_type": "execute_result",
          "data": {
            "text/plain": [
              "5"
            ]
          },
          "metadata": {
            "tags": []
          },
          "execution_count": 35
        }
      ]
    },
    {
      "cell_type": "code",
      "metadata": {
        "id": "foeBWkrpcGUd",
        "colab_type": "code",
        "outputId": "9ffa8413-e621-4ced-c54e-7a74528a6388",
        "colab": {
          "base_uri": "https://localhost:8080/",
          "height": 36
        }
      },
      "source": [
        "len(my_dict)"
      ],
      "execution_count": 36,
      "outputs": [
        {
          "output_type": "execute_result",
          "data": {
            "text/plain": [
              "3"
            ]
          },
          "metadata": {
            "tags": []
          },
          "execution_count": 36
        }
      ]
    },
    {
      "cell_type": "markdown",
      "metadata": {
        "id": "9G998_JVcGUf",
        "colab_type": "text"
      },
      "source": [
        "### Loop over ..."
      ]
    },
    {
      "cell_type": "code",
      "metadata": {
        "id": "m8Hsg7YlcGUg",
        "colab_type": "code",
        "outputId": "285e864b-4488-48ec-d153-2d828b750705",
        "colab": {
          "base_uri": "https://localhost:8080/",
          "height": 111
        }
      },
      "source": [
        "for e in l:\n",
        "    print(e**2)"
      ],
      "execution_count": 37,
      "outputs": [
        {
          "output_type": "stream",
          "text": [
            "1\n",
            "4\n",
            "9\n",
            "16\n",
            "25\n"
          ],
          "name": "stdout"
        }
      ]
    },
    {
      "cell_type": "code",
      "metadata": {
        "id": "6Tbu1lepcGUh",
        "colab_type": "code",
        "outputId": "0d6f0faa-926a-4e0b-9dfa-b07af533c052",
        "colab": {
          "base_uri": "https://localhost:8080/",
          "height": 111
        }
      },
      "source": [
        "for e in t:\n",
        "    print(e**2)"
      ],
      "execution_count": 38,
      "outputs": [
        {
          "output_type": "stream",
          "text": [
            "1\n",
            "4\n",
            "9\n",
            "16\n",
            "25\n"
          ],
          "name": "stdout"
        }
      ]
    },
    {
      "cell_type": "code",
      "metadata": {
        "id": "F-tAnDyqcGUj",
        "colab_type": "code",
        "outputId": "3e971810-3dd0-4562-8343-ec5639ef8593",
        "colab": {
          "base_uri": "https://localhost:8080/",
          "height": 74
        }
      },
      "source": [
        "for e in my_dict.values():\n",
        "    print(e)"
      ],
      "execution_count": 39,
      "outputs": [
        {
          "output_type": "stream",
          "text": [
            "1\n",
            "2\n",
            "3\n"
          ],
          "name": "stdout"
        }
      ]
    },
    {
      "cell_type": "code",
      "metadata": {
        "id": "61P0D9V8cGUl",
        "colab_type": "code",
        "outputId": "ffdaafd8-b828-4656-ff8e-41b291eca592",
        "colab": {
          "base_uri": "https://localhost:8080/",
          "height": 74
        }
      },
      "source": [
        "for k, v in my_dict.items():\n",
        "    print(k, v)"
      ],
      "execution_count": 40,
      "outputs": [
        {
          "output_type": "stream",
          "text": [
            "a 1\n",
            "b 2\n",
            "c 3\n"
          ],
          "name": "stdout"
        }
      ]
    },
    {
      "cell_type": "markdown",
      "metadata": {
        "id": "krPehN6zcGUm",
        "colab_type": "text"
      },
      "source": [
        "### Whatever comprehensions"
      ]
    },
    {
      "cell_type": "code",
      "metadata": {
        "id": "v6U0ChnocGUn",
        "colab_type": "code",
        "outputId": "627bdd8b-295f-410d-e15a-122cd2ee777b",
        "colab": {
          "base_uri": "https://localhost:8080/",
          "height": 36
        }
      },
      "source": [
        "{e: e**2 for e in l}"
      ],
      "execution_count": 41,
      "outputs": [
        {
          "output_type": "execute_result",
          "data": {
            "text/plain": [
              "{1: 1, 2: 4, 3: 9, 4: 16, 5: 25}"
            ]
          },
          "metadata": {
            "tags": []
          },
          "execution_count": 41
        }
      ]
    },
    {
      "cell_type": "code",
      "metadata": {
        "id": "GD_rhu-CcGUo",
        "colab_type": "code",
        "outputId": "2b645264-a371-4e6f-d286-54f96db460e1",
        "colab": {
          "base_uri": "https://localhost:8080/",
          "height": 36
        }
      },
      "source": [
        "{e: e**2 for e in l if e % 2}"
      ],
      "execution_count": 42,
      "outputs": [
        {
          "output_type": "execute_result",
          "data": {
            "text/plain": [
              "{1: 1, 3: 9, 5: 25}"
            ]
          },
          "metadata": {
            "tags": []
          },
          "execution_count": 42
        }
      ]
    },
    {
      "cell_type": "code",
      "metadata": {
        "id": "l6IBHZ2ocGUq",
        "colab_type": "code",
        "outputId": "28948409-e22c-4d91-ab4a-2a14bb3d244e",
        "colab": {
          "base_uri": "https://localhost:8080/",
          "height": 36
        }
      },
      "source": [
        "0 == False"
      ],
      "execution_count": 43,
      "outputs": [
        {
          "output_type": "execute_result",
          "data": {
            "text/plain": [
              "True"
            ]
          },
          "metadata": {
            "tags": []
          },
          "execution_count": 43
        }
      ]
    },
    {
      "cell_type": "code",
      "metadata": {
        "id": "OswhyO4wcGUr",
        "colab_type": "code",
        "outputId": "ec04de49-a0f3-40da-fe2b-eec1e62ac515",
        "colab": {
          "base_uri": "https://localhost:8080/",
          "height": 36
        }
      },
      "source": [
        "\n",
        "[e**2 for e in l if e % 2 != 0]"
      ],
      "execution_count": 44,
      "outputs": [
        {
          "output_type": "execute_result",
          "data": {
            "text/plain": [
              "[1, 9, 25]"
            ]
          },
          "metadata": {
            "tags": []
          },
          "execution_count": 44
        }
      ]
    },
    {
      "cell_type": "code",
      "metadata": {
        "id": "HbYo_ytscGUt",
        "colab_type": "code",
        "outputId": "6939f987-0501-4b97-de49-06fddb83667e",
        "colab": {
          "base_uri": "https://localhost:8080/",
          "height": 74
        }
      },
      "source": [
        "\n",
        "l2 = []\n",
        "for e in l:\n",
        "    if e % 2 != 0:\n",
        "        l2.append(e**2)\n",
        "        print(l2)"
      ],
      "execution_count": 45,
      "outputs": [
        {
          "output_type": "stream",
          "text": [
            "[1]\n",
            "[1, 9]\n",
            "[1, 9, 25]\n"
          ],
          "name": "stdout"
        }
      ]
    },
    {
      "cell_type": "code",
      "metadata": {
        "id": "1WPN0fNB3XIt",
        "colab_type": "code",
        "outputId": "43ba738c-215b-4c2e-e5a5-d182b35e13a9",
        "colab": {
          "base_uri": "https://localhost:8080/",
          "height": 36
        }
      },
      "source": [
        "[i+j for i in range(5) for j in range(5)]"
      ],
      "execution_count": 0,
      "outputs": [
        {
          "output_type": "execute_result",
          "data": {
            "text/plain": [
              "[0, 1, 2, 3, 4, 1, 2, 3, 4, 5, 2, 3, 4, 5, 6, 3, 4, 5, 6, 7, 4, 5, 6, 7, 8]"
            ]
          },
          "metadata": {
            "tags": []
          },
          "execution_count": 1
        }
      ]
    },
    {
      "cell_type": "markdown",
      "metadata": {
        "id": "nlAl0QffcGUv",
        "colab_type": "text"
      },
      "source": [
        "### Magic Zip"
      ]
    },
    {
      "cell_type": "code",
      "metadata": {
        "id": "Z-j50uDBcGUw",
        "colab_type": "code",
        "outputId": "b76871b8-6737-42a1-ecdb-c5d7bc54d64f",
        "colab": {
          "base_uri": "https://localhost:8080/",
          "height": 36
        }
      },
      "source": [
        "dict(zip(l, l[::-1]))"
      ],
      "execution_count": 46,
      "outputs": [
        {
          "output_type": "execute_result",
          "data": {
            "text/plain": [
              "{1: 5, 2: 4, 3: 3, 4: 2, 5: 1}"
            ]
          },
          "metadata": {
            "tags": []
          },
          "execution_count": 46
        }
      ]
    },
    {
      "cell_type": "code",
      "metadata": {
        "id": "sjJVnHkUcGUy",
        "colab_type": "code",
        "outputId": "063b2acf-0147-42a9-eea5-a9eeb02032df",
        "colab": {
          "base_uri": "https://localhost:8080/",
          "height": 36
        }
      },
      "source": [
        "dict([['a', 1], ['b', 2], ['c', 3]])"
      ],
      "execution_count": 47,
      "outputs": [
        {
          "output_type": "execute_result",
          "data": {
            "text/plain": [
              "{'a': 1, 'b': 2, 'c': 3}"
            ]
          },
          "metadata": {
            "tags": []
          },
          "execution_count": 47
        }
      ]
    },
    {
      "cell_type": "code",
      "metadata": {
        "id": "fpIeNFYBcGU0",
        "colab_type": "code",
        "colab": {}
      },
      "source": [
        "M = [[1, 2, 3], [4, 5, 6]]"
      ],
      "execution_count": 0,
      "outputs": []
    },
    {
      "cell_type": "code",
      "metadata": {
        "id": "Yj9I8ykMcGU1",
        "colab_type": "code",
        "outputId": "0b878cb6-e2e9-4647-9cfc-ede8fe12f328",
        "colab": {
          "base_uri": "https://localhost:8080/",
          "height": 36
        }
      },
      "source": [
        "M"
      ],
      "execution_count": 49,
      "outputs": [
        {
          "output_type": "execute_result",
          "data": {
            "text/plain": [
              "[[1, 2, 3], [4, 5, 6]]"
            ]
          },
          "metadata": {
            "tags": []
          },
          "execution_count": 49
        }
      ]
    },
    {
      "cell_type": "code",
      "metadata": {
        "id": "TkTPxvnycGU3",
        "colab_type": "code",
        "outputId": "91976e8f-ee32-4d80-aa53-07cf6df0b79a",
        "colab": {
          "base_uri": "https://localhost:8080/",
          "height": 36
        }
      },
      "source": [
        "Mt = list(zip(*M)) # list(zip([1, 2, 3], [4, 5, 6]))\n",
        "print(Mt)"
      ],
      "execution_count": 50,
      "outputs": [
        {
          "output_type": "stream",
          "text": [
            "[(1, 4), (2, 5), (3, 6)]\n"
          ],
          "name": "stdout"
        }
      ]
    },
    {
      "cell_type": "code",
      "metadata": {
        "id": "ao25-002cGU4",
        "colab_type": "code",
        "outputId": "153d9d09-b92b-41ae-9878-adb407d2fd13",
        "colab": {
          "base_uri": "https://localhost:8080/",
          "height": 55
        }
      },
      "source": [
        "# f(a, b, c, d, e)\n",
        "# f(*l) == f(l[0], l[1], ... , l[4])\n",
        "\n",
        "print(l)\n",
        "print(*l)"
      ],
      "execution_count": 51,
      "outputs": [
        {
          "output_type": "stream",
          "text": [
            "[1, 2, 3, 4, 5]\n",
            "1 2 3 4 5\n"
          ],
          "name": "stdout"
        }
      ]
    }
  ]
}