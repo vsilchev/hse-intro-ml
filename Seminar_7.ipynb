{
  "nbformat": 4,
  "nbformat_minor": 0,
  "metadata": {
    "colab": {
      "name": "Seminar 7.ipynb",
      "provenance": [],
      "collapsed_sections": [],
      "authorship_tag": "ABX9TyMFu1D8DLMx7czojHadktTg",
      "include_colab_link": true
    },
    "kernelspec": {
      "name": "python3",
      "display_name": "Python 3"
    }
  },
  "cells": [
    {
      "cell_type": "markdown",
      "metadata": {
        "id": "view-in-github",
        "colab_type": "text"
      },
      "source": [
        "<a href=\"https://colab.research.google.com/github/vsilchev/hse-intro-ml/blob/master/Seminar_7.ipynb\" target=\"_parent\"><img src=\"https://colab.research.google.com/assets/colab-badge.svg\" alt=\"Open In Colab\"/></a>"
      ]
    },
    {
      "cell_type": "code",
      "metadata": {
        "id": "OM8aXOrXR2r3",
        "colab_type": "code",
        "colab": {}
      },
      "source": [
        "import pandas as pd\n",
        "import matplotlib.pyplot as plt\n",
        "import numpy as np\n",
        "import seaborn as sns\n",
        "from sklearn.metrics import mean_squared_error\n",
        "from sklearn.model_selection import train_test_split\n",
        "from sklearn.linear_model import LinearRegression, Lasso, Ridge\n",
        "from sklearn.preprocessing import PolynomialFeatures, OneHotEncoder"
      ],
      "execution_count": 0,
      "outputs": []
    },
    {
      "cell_type": "code",
      "metadata": {
        "id": "_Gong8KRSHQU",
        "colab_type": "code",
        "colab": {}
      },
      "source": [
        "def print_model(model, columns):\n",
        "    l = list(zip(columns, model.coef_))\n",
        "    for col, coef in sorted(l, key=lambda x: abs(x[1]), reverse=True):\n",
        "        print(\"{}: {}\".format(col, coef))\n",
        "    print(\"Intercept: {}\".format(model.intercept_))"
      ],
      "execution_count": 0,
      "outputs": []
    },
    {
      "cell_type": "code",
      "metadata": {
        "id": "ptWsZs3lSH_D",
        "colab_type": "code",
        "colab": {}
      },
      "source": [
        "df = pd.read_csv('bike_sharing_demand.csv', parse_dates=['datetime'])\n",
        "\n",
        "# generate datetime features\n",
        "df['dayofweek'] = df['datetime'].dt.dayofweek\n",
        "df['month'] = df['datetime'].dt.month\n",
        "df['hour'] = df['datetime'].dt.hour"
      ],
      "execution_count": 0,
      "outputs": []
    },
    {
      "cell_type": "code",
      "metadata": {
        "id": "6kJq3MVpSKXL",
        "colab_type": "code",
        "colab": {
          "base_uri": "https://localhost:8080/",
          "height": 411
        },
        "outputId": "f0074f7d-2652-4712-92ee-3690fabe6f91"
      },
      "source": [
        "print(df.shape)\n",
        "df.head()"
      ],
      "execution_count": 5,
      "outputs": [
        {
          "output_type": "stream",
          "text": [
            "(10886, 15)\n"
          ],
          "name": "stdout"
        },
        {
          "output_type": "execute_result",
          "data": {
            "text/html": [
              "<div>\n",
              "<style scoped>\n",
              "    .dataframe tbody tr th:only-of-type {\n",
              "        vertical-align: middle;\n",
              "    }\n",
              "\n",
              "    .dataframe tbody tr th {\n",
              "        vertical-align: top;\n",
              "    }\n",
              "\n",
              "    .dataframe thead th {\n",
              "        text-align: right;\n",
              "    }\n",
              "</style>\n",
              "<table border=\"1\" class=\"dataframe\">\n",
              "  <thead>\n",
              "    <tr style=\"text-align: right;\">\n",
              "      <th></th>\n",
              "      <th>datetime</th>\n",
              "      <th>season</th>\n",
              "      <th>holiday</th>\n",
              "      <th>workingday</th>\n",
              "      <th>weather</th>\n",
              "      <th>temp</th>\n",
              "      <th>atemp</th>\n",
              "      <th>humidity</th>\n",
              "      <th>windspeed</th>\n",
              "      <th>casual</th>\n",
              "      <th>registered</th>\n",
              "      <th>count</th>\n",
              "      <th>dayofweek</th>\n",
              "      <th>month</th>\n",
              "      <th>hour</th>\n",
              "    </tr>\n",
              "  </thead>\n",
              "  <tbody>\n",
              "    <tr>\n",
              "      <th>0</th>\n",
              "      <td>2011-01-01 00:00:00</td>\n",
              "      <td>1</td>\n",
              "      <td>0</td>\n",
              "      <td>0</td>\n",
              "      <td>1</td>\n",
              "      <td>9.84</td>\n",
              "      <td>14.395</td>\n",
              "      <td>81</td>\n",
              "      <td>0.0</td>\n",
              "      <td>3</td>\n",
              "      <td>13</td>\n",
              "      <td>16</td>\n",
              "      <td>5</td>\n",
              "      <td>1</td>\n",
              "      <td>0</td>\n",
              "    </tr>\n",
              "    <tr>\n",
              "      <th>1</th>\n",
              "      <td>2011-01-01 01:00:00</td>\n",
              "      <td>1</td>\n",
              "      <td>0</td>\n",
              "      <td>0</td>\n",
              "      <td>1</td>\n",
              "      <td>9.02</td>\n",
              "      <td>13.635</td>\n",
              "      <td>80</td>\n",
              "      <td>0.0</td>\n",
              "      <td>8</td>\n",
              "      <td>32</td>\n",
              "      <td>40</td>\n",
              "      <td>5</td>\n",
              "      <td>1</td>\n",
              "      <td>1</td>\n",
              "    </tr>\n",
              "    <tr>\n",
              "      <th>2</th>\n",
              "      <td>2011-01-01 02:00:00</td>\n",
              "      <td>1</td>\n",
              "      <td>0</td>\n",
              "      <td>0</td>\n",
              "      <td>1</td>\n",
              "      <td>9.02</td>\n",
              "      <td>13.635</td>\n",
              "      <td>80</td>\n",
              "      <td>0.0</td>\n",
              "      <td>5</td>\n",
              "      <td>27</td>\n",
              "      <td>32</td>\n",
              "      <td>5</td>\n",
              "      <td>1</td>\n",
              "      <td>2</td>\n",
              "    </tr>\n",
              "    <tr>\n",
              "      <th>3</th>\n",
              "      <td>2011-01-01 03:00:00</td>\n",
              "      <td>1</td>\n",
              "      <td>0</td>\n",
              "      <td>0</td>\n",
              "      <td>1</td>\n",
              "      <td>9.84</td>\n",
              "      <td>14.395</td>\n",
              "      <td>75</td>\n",
              "      <td>0.0</td>\n",
              "      <td>3</td>\n",
              "      <td>10</td>\n",
              "      <td>13</td>\n",
              "      <td>5</td>\n",
              "      <td>1</td>\n",
              "      <td>3</td>\n",
              "    </tr>\n",
              "    <tr>\n",
              "      <th>4</th>\n",
              "      <td>2011-01-01 04:00:00</td>\n",
              "      <td>1</td>\n",
              "      <td>0</td>\n",
              "      <td>0</td>\n",
              "      <td>1</td>\n",
              "      <td>9.84</td>\n",
              "      <td>14.395</td>\n",
              "      <td>75</td>\n",
              "      <td>0.0</td>\n",
              "      <td>0</td>\n",
              "      <td>1</td>\n",
              "      <td>1</td>\n",
              "      <td>5</td>\n",
              "      <td>1</td>\n",
              "      <td>4</td>\n",
              "    </tr>\n",
              "  </tbody>\n",
              "</table>\n",
              "</div>"
            ],
            "text/plain": [
              "             datetime  season  holiday  ...  dayofweek  month  hour\n",
              "0 2011-01-01 00:00:00       1        0  ...          5      1     0\n",
              "1 2011-01-01 01:00:00       1        0  ...          5      1     1\n",
              "2 2011-01-01 02:00:00       1        0  ...          5      1     2\n",
              "3 2011-01-01 03:00:00       1        0  ...          5      1     3\n",
              "4 2011-01-01 04:00:00       1        0  ...          5      1     4\n",
              "\n",
              "[5 rows x 15 columns]"
            ]
          },
          "metadata": {
            "tags": []
          },
          "execution_count": 5
        }
      ]
    },
    {
      "cell_type": "code",
      "metadata": {
        "id": "sw5Cghl9SNrr",
        "colab_type": "code",
        "colab": {}
      },
      "source": [
        "useless_cols = ['datetime', 'casual', 'registered', 'count', 'atemp', 'season']"
      ],
      "execution_count": 0,
      "outputs": []
    },
    {
      "cell_type": "code",
      "metadata": {
        "id": "fj_h0l5YSR7J",
        "colab_type": "code",
        "colab": {}
      },
      "source": [
        "one_hot_transformer = OneHotEncoder(sparse=False)"
      ],
      "execution_count": 0,
      "outputs": []
    },
    {
      "cell_type": "code",
      "metadata": {
        "id": "Ul5RmX0yTUzU",
        "colab_type": "code",
        "colab": {}
      },
      "source": [
        "month_encoded =  one_hot_transformer.fit_transform(df[['month']].values)"
      ],
      "execution_count": 0,
      "outputs": []
    },
    {
      "cell_type": "code",
      "metadata": {
        "id": "gdAAfiFaUDdX",
        "colab_type": "code",
        "colab": {
          "base_uri": "https://localhost:8080/",
          "height": 34
        },
        "outputId": "8dc41486-6a5a-4570-f9b4-08d99ba59da5"
      },
      "source": [
        "month_encoded.shape"
      ],
      "execution_count": 48,
      "outputs": [
        {
          "output_type": "execute_result",
          "data": {
            "text/plain": [
              "(10886, 12)"
            ]
          },
          "metadata": {
            "tags": []
          },
          "execution_count": 48
        }
      ]
    },
    {
      "cell_type": "code",
      "metadata": {
        "id": "rdzney4cUK6M",
        "colab_type": "code",
        "colab": {
          "base_uri": "https://localhost:8080/",
          "height": 51
        },
        "outputId": "a4226ca3-88f2-4be6-f514-a649ce23d88d"
      },
      "source": [
        "one_hot_transformer.get_feature_names()"
      ],
      "execution_count": 49,
      "outputs": [
        {
          "output_type": "execute_result",
          "data": {
            "text/plain": [
              "array(['x0_1', 'x0_2', 'x0_3', 'x0_4', 'x0_5', 'x0_6', 'x0_7', 'x0_8',\n",
              "       'x0_9', 'x0_10', 'x0_11', 'x0_12'], dtype=object)"
            ]
          },
          "metadata": {
            "tags": []
          },
          "execution_count": 49
        }
      ]
    },
    {
      "cell_type": "code",
      "metadata": {
        "id": "oP5w5afYUxnh",
        "colab_type": "code",
        "colab": {
          "base_uri": "https://localhost:8080/",
          "height": 34
        },
        "outputId": "4a417392-1f5a-4a60-f443-da2186df6577"
      },
      "source": [
        "month_names = ['month_' + str(n) for n in one_hot_transformer.categories_[0]]\n",
        "len(month_names)"
      ],
      "execution_count": 50,
      "outputs": [
        {
          "output_type": "execute_result",
          "data": {
            "text/plain": [
              "12"
            ]
          },
          "metadata": {
            "tags": []
          },
          "execution_count": 50
        }
      ]
    },
    {
      "cell_type": "code",
      "metadata": {
        "id": "uCEIg857VWTy",
        "colab_type": "code",
        "colab": {
          "base_uri": "https://localhost:8080/",
          "height": 34
        },
        "outputId": "3b0ddb4c-0747-4ca4-9261-23831a9e5ae5"
      },
      "source": [
        "month_df = pd.DataFrame(data=month_encoded, columns=month_names)\n",
        "month_df.shape"
      ],
      "execution_count": 51,
      "outputs": [
        {
          "output_type": "execute_result",
          "data": {
            "text/plain": [
              "(10886, 12)"
            ]
          },
          "metadata": {
            "tags": []
          },
          "execution_count": 51
        }
      ]
    },
    {
      "cell_type": "code",
      "metadata": {
        "id": "On37D2gFYFxA",
        "colab_type": "code",
        "colab": {
          "base_uri": "https://localhost:8080/",
          "height": 224
        },
        "outputId": "e4d59fbc-0b08-483d-ccbb-4728dc8ba60c"
      },
      "source": [
        "month_df.head()"
      ],
      "execution_count": 52,
      "outputs": [
        {
          "output_type": "execute_result",
          "data": {
            "text/html": [
              "<div>\n",
              "<style scoped>\n",
              "    .dataframe tbody tr th:only-of-type {\n",
              "        vertical-align: middle;\n",
              "    }\n",
              "\n",
              "    .dataframe tbody tr th {\n",
              "        vertical-align: top;\n",
              "    }\n",
              "\n",
              "    .dataframe thead th {\n",
              "        text-align: right;\n",
              "    }\n",
              "</style>\n",
              "<table border=\"1\" class=\"dataframe\">\n",
              "  <thead>\n",
              "    <tr style=\"text-align: right;\">\n",
              "      <th></th>\n",
              "      <th>month_1</th>\n",
              "      <th>month_2</th>\n",
              "      <th>month_3</th>\n",
              "      <th>month_4</th>\n",
              "      <th>month_5</th>\n",
              "      <th>month_6</th>\n",
              "      <th>month_7</th>\n",
              "      <th>month_8</th>\n",
              "      <th>month_9</th>\n",
              "      <th>month_10</th>\n",
              "      <th>month_11</th>\n",
              "      <th>month_12</th>\n",
              "    </tr>\n",
              "  </thead>\n",
              "  <tbody>\n",
              "    <tr>\n",
              "      <th>0</th>\n",
              "      <td>1.0</td>\n",
              "      <td>0.0</td>\n",
              "      <td>0.0</td>\n",
              "      <td>0.0</td>\n",
              "      <td>0.0</td>\n",
              "      <td>0.0</td>\n",
              "      <td>0.0</td>\n",
              "      <td>0.0</td>\n",
              "      <td>0.0</td>\n",
              "      <td>0.0</td>\n",
              "      <td>0.0</td>\n",
              "      <td>0.0</td>\n",
              "    </tr>\n",
              "    <tr>\n",
              "      <th>1</th>\n",
              "      <td>1.0</td>\n",
              "      <td>0.0</td>\n",
              "      <td>0.0</td>\n",
              "      <td>0.0</td>\n",
              "      <td>0.0</td>\n",
              "      <td>0.0</td>\n",
              "      <td>0.0</td>\n",
              "      <td>0.0</td>\n",
              "      <td>0.0</td>\n",
              "      <td>0.0</td>\n",
              "      <td>0.0</td>\n",
              "      <td>0.0</td>\n",
              "    </tr>\n",
              "    <tr>\n",
              "      <th>2</th>\n",
              "      <td>1.0</td>\n",
              "      <td>0.0</td>\n",
              "      <td>0.0</td>\n",
              "      <td>0.0</td>\n",
              "      <td>0.0</td>\n",
              "      <td>0.0</td>\n",
              "      <td>0.0</td>\n",
              "      <td>0.0</td>\n",
              "      <td>0.0</td>\n",
              "      <td>0.0</td>\n",
              "      <td>0.0</td>\n",
              "      <td>0.0</td>\n",
              "    </tr>\n",
              "    <tr>\n",
              "      <th>3</th>\n",
              "      <td>1.0</td>\n",
              "      <td>0.0</td>\n",
              "      <td>0.0</td>\n",
              "      <td>0.0</td>\n",
              "      <td>0.0</td>\n",
              "      <td>0.0</td>\n",
              "      <td>0.0</td>\n",
              "      <td>0.0</td>\n",
              "      <td>0.0</td>\n",
              "      <td>0.0</td>\n",
              "      <td>0.0</td>\n",
              "      <td>0.0</td>\n",
              "    </tr>\n",
              "    <tr>\n",
              "      <th>4</th>\n",
              "      <td>1.0</td>\n",
              "      <td>0.0</td>\n",
              "      <td>0.0</td>\n",
              "      <td>0.0</td>\n",
              "      <td>0.0</td>\n",
              "      <td>0.0</td>\n",
              "      <td>0.0</td>\n",
              "      <td>0.0</td>\n",
              "      <td>0.0</td>\n",
              "      <td>0.0</td>\n",
              "      <td>0.0</td>\n",
              "      <td>0.0</td>\n",
              "    </tr>\n",
              "  </tbody>\n",
              "</table>\n",
              "</div>"
            ],
            "text/plain": [
              "   month_1  month_2  month_3  month_4  ...  month_9  month_10  month_11  month_12\n",
              "0      1.0      0.0      0.0      0.0  ...      0.0       0.0       0.0       0.0\n",
              "1      1.0      0.0      0.0      0.0  ...      0.0       0.0       0.0       0.0\n",
              "2      1.0      0.0      0.0      0.0  ...      0.0       0.0       0.0       0.0\n",
              "3      1.0      0.0      0.0      0.0  ...      0.0       0.0       0.0       0.0\n",
              "4      1.0      0.0      0.0      0.0  ...      0.0       0.0       0.0       0.0\n",
              "\n",
              "[5 rows x 12 columns]"
            ]
          },
          "metadata": {
            "tags": []
          },
          "execution_count": 52
        }
      ]
    },
    {
      "cell_type": "code",
      "metadata": {
        "id": "ai_BhQ9rZt9I",
        "colab_type": "code",
        "colab": {}
      },
      "source": [
        "joined_df = pd.concat((month_df, df.drop(columns=useless_cols + ['month'])), axis=1)"
      ],
      "execution_count": 0,
      "outputs": []
    },
    {
      "cell_type": "code",
      "metadata": {
        "id": "XVhaEzG9aici",
        "colab_type": "code",
        "colab": {
          "base_uri": "https://localhost:8080/",
          "height": 224
        },
        "outputId": "3799a35a-411f-4b31-e614-9c7ca4d347dd"
      },
      "source": [
        "joined_df.head()"
      ],
      "execution_count": 55,
      "outputs": [
        {
          "output_type": "execute_result",
          "data": {
            "text/html": [
              "<div>\n",
              "<style scoped>\n",
              "    .dataframe tbody tr th:only-of-type {\n",
              "        vertical-align: middle;\n",
              "    }\n",
              "\n",
              "    .dataframe tbody tr th {\n",
              "        vertical-align: top;\n",
              "    }\n",
              "\n",
              "    .dataframe thead th {\n",
              "        text-align: right;\n",
              "    }\n",
              "</style>\n",
              "<table border=\"1\" class=\"dataframe\">\n",
              "  <thead>\n",
              "    <tr style=\"text-align: right;\">\n",
              "      <th></th>\n",
              "      <th>month_1</th>\n",
              "      <th>month_2</th>\n",
              "      <th>month_3</th>\n",
              "      <th>month_4</th>\n",
              "      <th>month_5</th>\n",
              "      <th>month_6</th>\n",
              "      <th>month_7</th>\n",
              "      <th>month_8</th>\n",
              "      <th>month_9</th>\n",
              "      <th>month_10</th>\n",
              "      <th>month_11</th>\n",
              "      <th>month_12</th>\n",
              "      <th>holiday</th>\n",
              "      <th>workingday</th>\n",
              "      <th>weather</th>\n",
              "      <th>temp</th>\n",
              "      <th>humidity</th>\n",
              "      <th>windspeed</th>\n",
              "      <th>dayofweek</th>\n",
              "      <th>hour</th>\n",
              "    </tr>\n",
              "  </thead>\n",
              "  <tbody>\n",
              "    <tr>\n",
              "      <th>0</th>\n",
              "      <td>1.0</td>\n",
              "      <td>0.0</td>\n",
              "      <td>0.0</td>\n",
              "      <td>0.0</td>\n",
              "      <td>0.0</td>\n",
              "      <td>0.0</td>\n",
              "      <td>0.0</td>\n",
              "      <td>0.0</td>\n",
              "      <td>0.0</td>\n",
              "      <td>0.0</td>\n",
              "      <td>0.0</td>\n",
              "      <td>0.0</td>\n",
              "      <td>0</td>\n",
              "      <td>0</td>\n",
              "      <td>1</td>\n",
              "      <td>9.84</td>\n",
              "      <td>81</td>\n",
              "      <td>0.0</td>\n",
              "      <td>5</td>\n",
              "      <td>0</td>\n",
              "    </tr>\n",
              "    <tr>\n",
              "      <th>1</th>\n",
              "      <td>1.0</td>\n",
              "      <td>0.0</td>\n",
              "      <td>0.0</td>\n",
              "      <td>0.0</td>\n",
              "      <td>0.0</td>\n",
              "      <td>0.0</td>\n",
              "      <td>0.0</td>\n",
              "      <td>0.0</td>\n",
              "      <td>0.0</td>\n",
              "      <td>0.0</td>\n",
              "      <td>0.0</td>\n",
              "      <td>0.0</td>\n",
              "      <td>0</td>\n",
              "      <td>0</td>\n",
              "      <td>1</td>\n",
              "      <td>9.02</td>\n",
              "      <td>80</td>\n",
              "      <td>0.0</td>\n",
              "      <td>5</td>\n",
              "      <td>1</td>\n",
              "    </tr>\n",
              "    <tr>\n",
              "      <th>2</th>\n",
              "      <td>1.0</td>\n",
              "      <td>0.0</td>\n",
              "      <td>0.0</td>\n",
              "      <td>0.0</td>\n",
              "      <td>0.0</td>\n",
              "      <td>0.0</td>\n",
              "      <td>0.0</td>\n",
              "      <td>0.0</td>\n",
              "      <td>0.0</td>\n",
              "      <td>0.0</td>\n",
              "      <td>0.0</td>\n",
              "      <td>0.0</td>\n",
              "      <td>0</td>\n",
              "      <td>0</td>\n",
              "      <td>1</td>\n",
              "      <td>9.02</td>\n",
              "      <td>80</td>\n",
              "      <td>0.0</td>\n",
              "      <td>5</td>\n",
              "      <td>2</td>\n",
              "    </tr>\n",
              "    <tr>\n",
              "      <th>3</th>\n",
              "      <td>1.0</td>\n",
              "      <td>0.0</td>\n",
              "      <td>0.0</td>\n",
              "      <td>0.0</td>\n",
              "      <td>0.0</td>\n",
              "      <td>0.0</td>\n",
              "      <td>0.0</td>\n",
              "      <td>0.0</td>\n",
              "      <td>0.0</td>\n",
              "      <td>0.0</td>\n",
              "      <td>0.0</td>\n",
              "      <td>0.0</td>\n",
              "      <td>0</td>\n",
              "      <td>0</td>\n",
              "      <td>1</td>\n",
              "      <td>9.84</td>\n",
              "      <td>75</td>\n",
              "      <td>0.0</td>\n",
              "      <td>5</td>\n",
              "      <td>3</td>\n",
              "    </tr>\n",
              "    <tr>\n",
              "      <th>4</th>\n",
              "      <td>1.0</td>\n",
              "      <td>0.0</td>\n",
              "      <td>0.0</td>\n",
              "      <td>0.0</td>\n",
              "      <td>0.0</td>\n",
              "      <td>0.0</td>\n",
              "      <td>0.0</td>\n",
              "      <td>0.0</td>\n",
              "      <td>0.0</td>\n",
              "      <td>0.0</td>\n",
              "      <td>0.0</td>\n",
              "      <td>0.0</td>\n",
              "      <td>0</td>\n",
              "      <td>0</td>\n",
              "      <td>1</td>\n",
              "      <td>9.84</td>\n",
              "      <td>75</td>\n",
              "      <td>0.0</td>\n",
              "      <td>5</td>\n",
              "      <td>4</td>\n",
              "    </tr>\n",
              "  </tbody>\n",
              "</table>\n",
              "</div>"
            ],
            "text/plain": [
              "   month_1  month_2  month_3  month_4  ...  humidity  windspeed  dayofweek  hour\n",
              "0      1.0      0.0      0.0      0.0  ...        81        0.0          5     0\n",
              "1      1.0      0.0      0.0      0.0  ...        80        0.0          5     1\n",
              "2      1.0      0.0      0.0      0.0  ...        80        0.0          5     2\n",
              "3      1.0      0.0      0.0      0.0  ...        75        0.0          5     3\n",
              "4      1.0      0.0      0.0      0.0  ...        75        0.0          5     4\n",
              "\n",
              "[5 rows x 20 columns]"
            ]
          },
          "metadata": {
            "tags": []
          },
          "execution_count": 55
        }
      ]
    },
    {
      "cell_type": "code",
      "metadata": {
        "id": "fQ6bp_EQam6f",
        "colab_type": "code",
        "colab": {}
      },
      "source": [
        "poly_transform = PolynomialFeatures(degree=2,include_bias=False)\n",
        "poly_features = poly_transform.fit_transform(joined_df)\n",
        "poly_names = poly_transform.get_feature_names(joined_df.columns)"
      ],
      "execution_count": 0,
      "outputs": []
    },
    {
      "cell_type": "code",
      "metadata": {
        "id": "Zccgz8svbGL-",
        "colab_type": "code",
        "colab": {
          "base_uri": "https://localhost:8080/",
          "height": 34
        },
        "outputId": "5fb5a7d1-dcdc-4bc2-e326-a108322dbedb"
      },
      "source": [
        "type(poly_features)"
      ],
      "execution_count": 57,
      "outputs": [
        {
          "output_type": "execute_result",
          "data": {
            "text/plain": [
              "numpy.ndarray"
            ]
          },
          "metadata": {
            "tags": []
          },
          "execution_count": 57
        }
      ]
    },
    {
      "cell_type": "code",
      "metadata": {
        "id": "VtW1C9RobfQn",
        "colab_type": "code",
        "colab": {
          "base_uri": "https://localhost:8080/",
          "height": 34
        },
        "outputId": "72dfe972-6f9f-4b49-ac89-43f4f26601f1"
      },
      "source": [
        "poly_df = pd.DataFrame(data=poly_features, columns=poly_names)\n",
        "poly_df.shape"
      ],
      "execution_count": 66,
      "outputs": [
        {
          "output_type": "execute_result",
          "data": {
            "text/plain": [
              "(10886, 230)"
            ]
          },
          "metadata": {
            "tags": []
          },
          "execution_count": 66
        }
      ]
    },
    {
      "cell_type": "code",
      "metadata": {
        "id": "sr3DEaWgb-df",
        "colab_type": "code",
        "colab": {}
      },
      "source": [
        "poly_df = poly_df.loc[:, (poly_df != poly_df.iloc[0]).any()]\n",
        "poly_names = poly_df.columns"
      ],
      "execution_count": 0,
      "outputs": []
    },
    {
      "cell_type": "code",
      "metadata": {
        "id": "eR8fHfYQcCQ3",
        "colab_type": "code",
        "colab": {
          "base_uri": "https://localhost:8080/",
          "height": 34
        },
        "outputId": "5fd976ac-c34b-471a-8dc0-1b419d88ce91"
      },
      "source": [
        "poly_df.shape"
      ],
      "execution_count": 68,
      "outputs": [
        {
          "output_type": "execute_result",
          "data": {
            "text/plain": [
              "(10886, 157)"
            ]
          },
          "metadata": {
            "tags": []
          },
          "execution_count": 68
        }
      ]
    },
    {
      "cell_type": "code",
      "metadata": {
        "id": "CDRVTOJscECP",
        "colab_type": "code",
        "colab": {}
      },
      "source": [
        "Y = df['count']\n",
        "X_poly_train, X_poly_test, Y_train, Y_test = train_test_split(poly_df.values, Y, shuffle=False)"
      ],
      "execution_count": 0,
      "outputs": []
    },
    {
      "cell_type": "code",
      "metadata": {
        "id": "L8UqVn-rcn6u",
        "colab_type": "code",
        "colab": {
          "base_uri": "https://localhost:8080/",
          "height": 1000
        },
        "outputId": "dfad581c-f628-43c1-f780-8ec4fce85a8a"
      },
      "source": [
        "my_little_poly = Lasso(alpha=2.0).fit(X_poly_train, Y_train)\n",
        "print_model(my_little_poly, poly_names)\n",
        "mean_squared_error(Y_test, my_little_poly.predict(X_poly_test))"
      ],
      "execution_count": 70,
      "outputs": [
        {
          "output_type": "stream",
          "text": [
            "hour: 30.616840504593256\n",
            "temp: 9.314170768326969\n",
            "month_5 temp: 5.335736077462036\n",
            "month_6 windspeed: 3.6680706003460912\n",
            "month_4 temp: 3.6030709871889055\n",
            "workingday temp: -3.3502922764661833\n",
            "weather dayofweek: 3.13083598070847\n",
            "weather^2: -2.7918662816919766\n",
            "month_3 temp: 2.5241724504235608\n",
            "humidity: 2.2181458362492212\n",
            "month_2 temp: -2.1096337341667257\n",
            "month_8 hour: -1.7214014739666932\n",
            "month_7 hour: -1.480296550774375\n",
            "month_12 hour: 1.4380820510774257\n",
            "month_10 temp: 1.3899121434636725\n",
            "hour^2: -1.1908269131230778\n",
            "month_3 hour: -1.0306621546799593\n",
            "workingday humidity: 0.9962624842647498\n",
            "month_5 humidity: -0.9610108321883788\n",
            "weather temp: -0.8330388483294303\n",
            "month_3 windspeed: -0.7151554014787558\n",
            "month_4 humidity: -0.7037541859357187\n",
            "month_8 windspeed: 0.673263426397904\n",
            "weather hour: -0.6506097186100728\n",
            "month_2 humidity: 0.6226838793233181\n",
            "workingday hour: 0.6210715910752342\n",
            "month_2 windspeed: -0.6127240481344418\n",
            "temp hour: 0.5137656382033434\n",
            "month_11 hour: 0.45987477533925486\n",
            "weather windspeed: -0.4279586953199618\n",
            "month_9 windspeed: 0.3935713278935171\n",
            "temp dayofweek: 0.3508596169757664\n",
            "month_8 temp: -0.32763649268430134\n",
            "month_10 hour: 0.27523089960183567\n",
            "dayofweek hour: -0.26563903625918855\n",
            "month_2 hour: 0.2254038841991491\n",
            "month_11 humidity: 0.22413481407688543\n",
            "month_9 temp: 0.19996150178251548\n",
            "holiday humidity: 0.1695633761807875\n",
            "weather humidity: 0.16753715900847277\n",
            "month_7 windspeed: 0.16449719600946638\n",
            "month_5 windspeed: 0.15101803588376128\n",
            "month_12 humidity: 0.14741082770262207\n",
            "dayofweek^2: 0.13971708178047243\n",
            "month_8 humidity: 0.13941626826192677\n",
            "windspeed dayofweek: 0.1319894333988792\n",
            "workingday windspeed: 0.13160098697436454\n",
            "humidity dayofweek: -0.12443325384535099\n",
            "month_1 windspeed: -0.11876649502559622\n",
            "temp^2: -0.1106084852669053\n",
            "month_10 humidity: -0.10217344596106982\n",
            "month_6 humidity: -0.09352969143494645\n",
            "humidity hour: -0.07316945994370552\n",
            "month_6 temp: -0.048415825837704436\n",
            "month_12 windspeed: -0.04476683614576597\n",
            "temp humidity: -0.04318012932167698\n",
            "windspeed hour: 0.03511627836366734\n",
            "windspeed^2: -0.017548029738207228\n",
            "humidity^2: -0.01727383602449941\n",
            "month_1 humidity: 0.00941646806403365\n",
            "temp windspeed: -0.00658715241816848\n",
            "month_1: 0.0\n",
            "month_2: -0.0\n",
            "month_3: -0.0\n",
            "month_4: 0.0\n",
            "month_5: -0.0\n",
            "month_6: 0.0\n",
            "month_7: -0.0\n",
            "month_8: -0.0\n",
            "month_9: 0.0\n",
            "month_10: 0.0\n",
            "month_11: 0.0\n",
            "month_12: 0.0\n",
            "holiday: 0.0\n",
            "workingday: -0.0\n",
            "weather: -0.0\n",
            "windspeed: 0.0\n",
            "dayofweek: 0.0\n",
            "month_1^2: 0.0\n",
            "month_1 holiday: 0.0\n",
            "month_1 workingday: -0.0\n",
            "month_1 weather: -0.0\n",
            "month_1 temp: -0.0\n",
            "month_1 dayofweek: -0.0\n",
            "month_1 hour: -0.0\n",
            "month_2^2: -0.0\n",
            "month_2 workingday: -0.0\n",
            "month_2 weather: 0.0\n",
            "month_2 dayofweek: 0.0\n",
            "month_3^2: -0.0\n",
            "month_3 workingday: -0.0\n",
            "month_3 weather: -0.0\n",
            "month_3 humidity: -0.0\n",
            "month_3 dayofweek: -0.0\n",
            "month_4^2: 0.0\n",
            "month_4 holiday: -0.0\n",
            "month_4 workingday: 0.0\n",
            "month_4 weather: 0.0\n",
            "month_4 windspeed: 0.0\n",
            "month_4 dayofweek: 0.0\n",
            "month_4 hour: -0.0\n",
            "month_5^2: -0.0\n",
            "month_5 workingday: -0.0\n",
            "month_5 weather: -0.0\n",
            "month_5 dayofweek: 0.0\n",
            "month_5 hour: 0.0\n",
            "month_6^2: 0.0\n",
            "month_6 workingday: 0.0\n",
            "month_6 weather: 0.0\n",
            "month_6 dayofweek: -0.0\n",
            "month_6 hour: 0.0\n",
            "month_7^2: -0.0\n",
            "month_7 holiday: 0.0\n",
            "month_7 workingday: 0.0\n",
            "month_7 weather: 0.0\n",
            "month_7 temp: -0.0\n",
            "month_7 humidity: 0.0\n",
            "month_7 dayofweek: -0.0\n",
            "month_8^2: -0.0\n",
            "month_8 workingday: 0.0\n",
            "month_8 weather: 0.0\n",
            "month_8 dayofweek: -0.0\n",
            "month_9^2: 0.0\n",
            "month_9 holiday: -0.0\n",
            "month_9 workingday: 0.0\n",
            "month_9 weather: 0.0\n",
            "month_9 humidity: -0.0\n",
            "month_9 dayofweek: 0.0\n",
            "month_9 hour: -0.0\n",
            "month_10^2: 0.0\n",
            "month_10 holiday: 0.0\n",
            "month_10 workingday: -0.0\n",
            "month_10 weather: 0.0\n",
            "month_10 windspeed: 0.0\n",
            "month_10 dayofweek: 0.0\n",
            "month_11^2: 0.0\n",
            "month_11 holiday: -0.0\n",
            "month_11 workingday: -0.0\n",
            "month_11 weather: -0.0\n",
            "month_11 temp: 0.0\n",
            "month_11 windspeed: -0.0\n",
            "month_11 dayofweek: 0.0\n",
            "month_12^2: 0.0\n",
            "month_12 workingday: -0.0\n",
            "month_12 weather: -0.0\n",
            "month_12 temp: -0.0\n",
            "month_12 dayofweek: 0.0\n",
            "holiday^2: 0.0\n",
            "holiday weather: 0.0\n",
            "holiday temp: 0.0\n",
            "holiday windspeed: -0.0\n",
            "holiday dayofweek: -0.0\n",
            "holiday hour: 0.0\n",
            "workingday^2: -0.0\n",
            "workingday weather: -0.0\n",
            "workingday dayofweek: 0.0\n",
            "humidity windspeed: 0.0\n",
            "Intercept: -183.64577134984071\n"
          ],
          "name": "stdout"
        },
        {
          "output_type": "execute_result",
          "data": {
            "text/plain": [
              "34513.09702699656"
            ]
          },
          "metadata": {
            "tags": []
          },
          "execution_count": 70
        }
      ]
    },
    {
      "cell_type": "code",
      "metadata": {
        "id": "c17xrtPVcrPm",
        "colab_type": "code",
        "colab": {}
      },
      "source": [
        "sorted_cols = [name\n",
        "               for name, val\n",
        "               in sorted(zip(poly_names, my_little_poly.coef_), key=lambda x: abs(x[1]), reverse=True)]"
      ],
      "execution_count": 0,
      "outputs": []
    },
    {
      "cell_type": "code",
      "metadata": {
        "id": "oa_P98hQdJpT",
        "colab_type": "code",
        "colab": {
          "base_uri": "https://localhost:8080/",
          "height": 34
        },
        "outputId": "fcb1a2ce-d06a-4ed6-8a91-2f6c99351549"
      },
      "source": [
        "len(sorted_cols)"
      ],
      "execution_count": 72,
      "outputs": [
        {
          "output_type": "execute_result",
          "data": {
            "text/plain": [
              "157"
            ]
          },
          "metadata": {
            "tags": []
          },
          "execution_count": 72
        }
      ]
    },
    {
      "cell_type": "code",
      "metadata": {
        "id": "MrMfQ851c-Zo",
        "colab_type": "code",
        "colab": {
          "base_uri": "https://localhost:8080/",
          "height": 286
        },
        "outputId": "6c569f84-99c6-4e36-9179-59154033ffe4"
      },
      "source": [
        "col_num = range(1, len(sorted_cols))\n",
        "loss_array = []\n",
        "\n",
        "for i in col_num:\n",
        "    X_poly_train, X_poly_test, Y_train, Y_test = train_test_split(poly_df[sorted_cols[:i]], Y, shuffle=False)\n",
        "    loss_array.append(mean_squared_error(Y_test, LinearRegression().fit(X_poly_train, Y_train).predict(X_poly_test)))\n",
        "\n",
        "plt.plot(loss_array)"
      ],
      "execution_count": 73,
      "outputs": [
        {
          "output_type": "execute_result",
          "data": {
            "text/plain": [
              "[<matplotlib.lines.Line2D at 0x7f820f19a588>]"
            ]
          },
          "metadata": {
            "tags": []
          },
          "execution_count": 73
        },
        {
          "output_type": "display_data",
          "data": {
            "image/png": "[encoded data removed]",
            "text/plain": [
              "<Figure size 432x288 with 1 Axes>"
            ]
          },
          "metadata": {
            "tags": []
          }
        }
      ]
    },
    {
      "cell_type": "code",
      "metadata": {
        "id": "Ig4KTBEUdE5m",
        "colab_type": "code",
        "colab": {}
      },
      "source": [
        ""
      ],
      "execution_count": 0,
      "outputs": []
    }
  ]
}