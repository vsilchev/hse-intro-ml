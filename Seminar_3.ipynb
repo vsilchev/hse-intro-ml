{
  "nbformat": 4,
  "nbformat_minor": 0,
  "metadata": {
    "colab": {
      "name": "Seminar 3.ipynb",
      "provenance": [],
      "authorship_tag": "ABX9TyP+zgUR0OaH+/UEw3uHM2k+",
      "include_colab_link": true
    },
    "kernelspec": {
      "name": "python3",
      "display_name": "Python 3"
    }
  },
  "cells": [
    {
      "cell_type": "markdown",
      "metadata": {
        "id": "view-in-github",
        "colab_type": "text"
      },
      "source": [
        "<a href=\"https://colab.research.google.com/github/vsilchev/hse-intro-ml/blob/master/Seminar_3.ipynb\" target=\"_parent\"><img src=\"https://colab.research.google.com/assets/colab-badge.svg\" alt=\"Open In Colab\"/></a>"
      ]
    },
    {
      "cell_type": "markdown",
      "metadata": {
        "id": "kMAHToIC9WGm",
        "colab_type": "text"
      },
      "source": [
        "# Introduction to Machine Learning. Seminar 3"
      ]
    },
    {
      "cell_type": "markdown",
      "metadata": {
        "id": "3M4LMX9IaA8w",
        "colab_type": "text"
      },
      "source": [
        "## Functions in Python"
      ]
    },
    {
      "cell_type": "code",
      "metadata": {
        "id": "bYYVsVCA9VaM",
        "colab_type": "code",
        "colab": {}
      },
      "source": [
        "def f(a, b):\n",
        "    return a + b"
      ],
      "execution_count": 0,
      "outputs": []
    },
    {
      "cell_type": "code",
      "metadata": {
        "id": "ufxwB1ay-CXj",
        "colab_type": "code",
        "outputId": "474d66b0-b5f2-420a-893c-02f586d6e5c4",
        "colab": {
          "base_uri": "https://localhost:8080/",
          "height": 34
        }
      },
      "source": [
        "f(5, 7)"
      ],
      "execution_count": 0,
      "outputs": [
        {
          "output_type": "execute_result",
          "data": {
            "text/plain": [
              "12"
            ]
          },
          "metadata": {
            "tags": []
          },
          "execution_count": 2
        }
      ]
    },
    {
      "cell_type": "code",
      "metadata": {
        "id": "vf4ChTp3-Fms",
        "colab_type": "code",
        "outputId": "cd15cba1-8804-4004-e279-4f0fc4dd5b32",
        "colab": {
          "base_uri": "https://localhost:8080/",
          "height": 34
        }
      },
      "source": [
        "x = f(5, 7)\n",
        "x"
      ],
      "execution_count": 0,
      "outputs": [
        {
          "output_type": "execute_result",
          "data": {
            "text/plain": [
              "12"
            ]
          },
          "metadata": {
            "tags": []
          },
          "execution_count": 3
        }
      ]
    },
    {
      "cell_type": "code",
      "metadata": {
        "id": "_fymOrdY-OQM",
        "colab_type": "code",
        "colab": {}
      },
      "source": [
        "def pseudo_f(a, b):\n",
        "    print(a + b)"
      ],
      "execution_count": 0,
      "outputs": []
    },
    {
      "cell_type": "code",
      "metadata": {
        "id": "RFjQEkJw-YKU",
        "colab_type": "code",
        "outputId": "c08f7f5d-59de-404c-9d98-e1b3714b031b",
        "colab": {
          "base_uri": "https://localhost:8080/",
          "height": 34
        }
      },
      "source": [
        "pseudo_f(5, 7)"
      ],
      "execution_count": 0,
      "outputs": [
        {
          "output_type": "stream",
          "text": [
            "12\n"
          ],
          "name": "stdout"
        }
      ]
    },
    {
      "cell_type": "code",
      "metadata": {
        "id": "t34bv26K-bes",
        "colab_type": "code",
        "outputId": "19ba5c53-c6fc-4518-9181-4255828ab420",
        "colab": {
          "base_uri": "https://localhost:8080/",
          "height": 51
        }
      },
      "source": [
        "x = pseudo_f(5, 7)\n",
        "print(x)"
      ],
      "execution_count": 0,
      "outputs": [
        {
          "output_type": "stream",
          "text": [
            "12\n",
            "None\n"
          ],
          "name": "stdout"
        }
      ]
    },
    {
      "cell_type": "code",
      "metadata": {
        "id": "NjgGsNkv-jtM",
        "colab_type": "code",
        "outputId": "6ec87d41-1eca-4e9d-d2b0-422f43ecb33a",
        "colab": {
          "base_uri": "https://localhost:8080/",
          "height": 34
        }
      },
      "source": [
        "f(b=7, a = 5)"
      ],
      "execution_count": 0,
      "outputs": [
        {
          "output_type": "execute_result",
          "data": {
            "text/plain": [
              "12"
            ]
          },
          "metadata": {
            "tags": []
          },
          "execution_count": 7
        }
      ]
    },
    {
      "cell_type": "code",
      "metadata": {
        "id": "Ck2rRVSY_ROz",
        "colab_type": "code",
        "colab": {}
      },
      "source": [
        "def f2(a, b, c=1):\n",
        "    return (a + b) / c"
      ],
      "execution_count": 0,
      "outputs": []
    },
    {
      "cell_type": "code",
      "metadata": {
        "id": "fBPXAM30_owU",
        "colab_type": "code",
        "outputId": "1b7d5865-cb67-4a06-9129-8b9ef5e34cf6",
        "colab": {
          "base_uri": "https://localhost:8080/",
          "height": 34
        }
      },
      "source": [
        "f2(5, 7)"
      ],
      "execution_count": 0,
      "outputs": [
        {
          "output_type": "execute_result",
          "data": {
            "text/plain": [
              "12.0"
            ]
          },
          "metadata": {
            "tags": []
          },
          "execution_count": 9
        }
      ]
    },
    {
      "cell_type": "code",
      "metadata": {
        "id": "oI6Y4xcp_sbE",
        "colab_type": "code",
        "outputId": "1f79924d-aa4d-4fc1-a4cf-c8f89fa637c9",
        "colab": {
          "base_uri": "https://localhost:8080/",
          "height": 34
        }
      },
      "source": [
        "f2(5, 7, 2)"
      ],
      "execution_count": 0,
      "outputs": [
        {
          "output_type": "execute_result",
          "data": {
            "text/plain": [
              "6.0"
            ]
          },
          "metadata": {
            "tags": []
          },
          "execution_count": 10
        }
      ]
    },
    {
      "cell_type": "code",
      "metadata": {
        "id": "8uTLRSBNbZp2",
        "colab_type": "code",
        "outputId": "5645801a-561d-4458-bf30-379f266a9ec3",
        "colab": {
          "base_uri": "https://localhost:8080/",
          "height": 34
        }
      },
      "source": [
        "f2(b=7, a=5)"
      ],
      "execution_count": 0,
      "outputs": [
        {
          "output_type": "execute_result",
          "data": {
            "text/plain": [
              "12.0"
            ]
          },
          "metadata": {
            "tags": []
          },
          "execution_count": 12
        }
      ]
    },
    {
      "cell_type": "code",
      "metadata": {
        "id": "WOQjGHLU_3Zc",
        "colab_type": "code",
        "colab": {}
      },
      "source": [
        "param_dict = {'a': 5, 'b': 7}"
      ],
      "execution_count": 0,
      "outputs": []
    },
    {
      "cell_type": "code",
      "metadata": {
        "id": "HuNMhI2PAQos",
        "colab_type": "code",
        "outputId": "d1ee8d94-d4c5-4e92-ae1e-62fcc9069f76",
        "colab": {
          "base_uri": "https://localhost:8080/",
          "height": 34
        }
      },
      "source": [
        "f2(**param_dict)"
      ],
      "execution_count": 0,
      "outputs": [
        {
          "output_type": "execute_result",
          "data": {
            "text/plain": [
              "12.0"
            ]
          },
          "metadata": {
            "tags": []
          },
          "execution_count": 15
        }
      ]
    },
    {
      "cell_type": "code",
      "metadata": {
        "id": "yByh_aXWb80Y",
        "colab_type": "code",
        "colab": {}
      },
      "source": [
        "param_dict = {'a': 5, 'b': 7, 'c': 2}"
      ],
      "execution_count": 0,
      "outputs": []
    },
    {
      "cell_type": "code",
      "metadata": {
        "id": "s27wN1sdAYLr",
        "colab_type": "code",
        "outputId": "f4a91e01-2b53-4244-cf59-51146097362e",
        "colab": {
          "base_uri": "https://localhost:8080/",
          "height": 164
        }
      },
      "source": [
        "f2(**param_dict)"
      ],
      "execution_count": 0,
      "outputs": [
        {
          "output_type": "error",
          "ename": "TypeError",
          "evalue": "ignored",
          "traceback": [
            "\u001b[0;31m---------------------------------------------------------------------------\u001b[0m",
            "\u001b[0;31mTypeError\u001b[0m                                 Traceback (most recent call last)",
            "\u001b[0;32m<ipython-input-20-5381fbfb09c0>\u001b[0m in \u001b[0;36m<module>\u001b[0;34m()\u001b[0m\n\u001b[0;32m----> 1\u001b[0;31m \u001b[0mf2\u001b[0m\u001b[0;34m(\u001b[0m\u001b[0;34m**\u001b[0m\u001b[0mparam_dict\u001b[0m\u001b[0;34m)\u001b[0m\u001b[0;34m\u001b[0m\u001b[0;34m\u001b[0m\u001b[0m\n\u001b[0m",
            "\u001b[0;31mTypeError\u001b[0m: f2() got an unexpected keyword argument 'x'"
          ]
        }
      ]
    },
    {
      "cell_type": "code",
      "metadata": {
        "id": "9jwkXCxOcSxn",
        "colab_type": "code",
        "outputId": "e4383eb4-8a13-40fb-fd1b-a38da69ee7a9",
        "colab": {
          "base_uri": "https://localhost:8080/",
          "height": 164
        }
      },
      "source": [
        "f2(a=5, b=7, x=-1)"
      ],
      "execution_count": 0,
      "outputs": [
        {
          "output_type": "error",
          "ename": "TypeError",
          "evalue": "ignored",
          "traceback": [
            "\u001b[0;31m---------------------------------------------------------------------------\u001b[0m",
            "\u001b[0;31mTypeError\u001b[0m                                 Traceback (most recent call last)",
            "\u001b[0;32m<ipython-input-21-45c1a4721b8e>\u001b[0m in \u001b[0;36m<module>\u001b[0;34m()\u001b[0m\n\u001b[0;32m----> 1\u001b[0;31m \u001b[0mf2\u001b[0m\u001b[0;34m(\u001b[0m\u001b[0ma\u001b[0m\u001b[0;34m=\u001b[0m\u001b[0;36m5\u001b[0m\u001b[0;34m,\u001b[0m \u001b[0mb\u001b[0m\u001b[0;34m=\u001b[0m\u001b[0;36m7\u001b[0m\u001b[0;34m,\u001b[0m \u001b[0mx\u001b[0m\u001b[0;34m=\u001b[0m\u001b[0;34m-\u001b[0m\u001b[0;36m1\u001b[0m\u001b[0;34m)\u001b[0m\u001b[0;34m\u001b[0m\u001b[0;34m\u001b[0m\u001b[0m\n\u001b[0m",
            "\u001b[0;31mTypeError\u001b[0m: f2() got an unexpected keyword argument 'x'"
          ]
        }
      ]
    },
    {
      "cell_type": "code",
      "metadata": {
        "id": "LFAdI0q9A1Qk",
        "colab_type": "code",
        "outputId": "5fe313b7-35cc-470f-f53f-0401906dddfd",
        "colab": {
          "base_uri": "https://localhost:8080/",
          "height": 34
        }
      },
      "source": [
        "param_dict.values()"
      ],
      "execution_count": 0,
      "outputs": [
        {
          "output_type": "execute_result",
          "data": {
            "text/plain": [
              "dict_values([5, 7, 2])"
            ]
          },
          "metadata": {
            "tags": []
          },
          "execution_count": 24
        }
      ]
    },
    {
      "cell_type": "code",
      "metadata": {
        "id": "JLwJqhRZBMw2",
        "colab_type": "code",
        "outputId": "6cfc6ade-f555-4fcd-8834-b628b996232a",
        "colab": {
          "base_uri": "https://localhost:8080/",
          "height": 34
        }
      },
      "source": [
        "f2(*param_dict.values())"
      ],
      "execution_count": 0,
      "outputs": [
        {
          "output_type": "execute_result",
          "data": {
            "text/plain": [
              "6.0"
            ]
          },
          "metadata": {
            "tags": []
          },
          "execution_count": 25
        }
      ]
    },
    {
      "cell_type": "code",
      "metadata": {
        "id": "A06G59sNBZuW",
        "colab_type": "code",
        "outputId": "577f602b-200c-4c39-c00b-d4d2e2633040",
        "colab": {
          "base_uri": "https://localhost:8080/",
          "height": 34
        }
      },
      "source": [
        "f2(*[2, 5, 7])"
      ],
      "execution_count": 0,
      "outputs": [
        {
          "output_type": "execute_result",
          "data": {
            "text/plain": [
              "1.0"
            ]
          },
          "metadata": {
            "tags": []
          },
          "execution_count": 26
        }
      ]
    },
    {
      "cell_type": "code",
      "metadata": {
        "id": "Sn810r-TBfD7",
        "colab_type": "code",
        "outputId": "75ba6816-3454-4091-d824-d4fd6212add2",
        "colab": {
          "base_uri": "https://localhost:8080/",
          "height": 34
        }
      },
      "source": [
        "print(1, 2, \"Hello, world!\")"
      ],
      "execution_count": 0,
      "outputs": [
        {
          "output_type": "stream",
          "text": [
            "1 2 Hello, world!\n"
          ],
          "name": "stdout"
        }
      ]
    },
    {
      "cell_type": "code",
      "metadata": {
        "id": "5M0GXAWsB_iz",
        "colab_type": "code",
        "colab": {}
      },
      "source": [
        "def g(*params, sep='; '):\n",
        "    return str(sep).join(map(str, params))"
      ],
      "execution_count": 0,
      "outputs": []
    },
    {
      "cell_type": "code",
      "metadata": {
        "id": "KuCfJ9k4CXrG",
        "colab_type": "code",
        "outputId": "7d4c2438-6345-470b-c9f9-5a3ff8a45351",
        "colab": {
          "base_uri": "https://localhost:8080/",
          "height": 34
        }
      },
      "source": [
        "g(1, 2, \"Hello, world!\", 5, 6, sep=\"<>\")"
      ],
      "execution_count": 0,
      "outputs": [
        {
          "output_type": "execute_result",
          "data": {
            "text/plain": [
              "'1<>2<>Hello, world!<>5<>6'"
            ]
          },
          "metadata": {
            "tags": []
          },
          "execution_count": 35
        }
      ]
    },
    {
      "cell_type": "code",
      "metadata": {
        "id": "Rh8kIvQaCuB7",
        "colab_type": "code",
        "colab": {}
      },
      "source": [
        "def f3(a, b, c=1, **kw_params):\n",
        "    for k, v in kw_params.items():\n",
        "        print(\"Key: {}, Value: {}\".format(k, v))\n",
        "    return (a + b) / c"
      ],
      "execution_count": 0,
      "outputs": []
    },
    {
      "cell_type": "code",
      "metadata": {
        "id": "M-vD62vbFEKM",
        "colab_type": "code",
        "outputId": "4a300969-9264-4626-a161-1cecc9669237",
        "colab": {
          "base_uri": "https://localhost:8080/",
          "height": 34
        }
      },
      "source": [
        "param_dict.update({\"c\": 3, \"x\": -1})\n",
        "param_dict"
      ],
      "execution_count": 0,
      "outputs": [
        {
          "output_type": "execute_result",
          "data": {
            "text/plain": [
              "{'a': 5, 'b': 7, 'c': 3, 'x': -1}"
            ]
          },
          "metadata": {
            "tags": []
          },
          "execution_count": 37
        }
      ]
    },
    {
      "cell_type": "code",
      "metadata": {
        "id": "BdJJqDBXFH6p",
        "colab_type": "code",
        "outputId": "ae7dc75d-b94e-4730-dc64-450e5930aa48",
        "colab": {
          "base_uri": "https://localhost:8080/",
          "height": 51
        }
      },
      "source": [
        "f3(**param_dict)"
      ],
      "execution_count": 0,
      "outputs": [
        {
          "output_type": "stream",
          "text": [
            "Key: x, Value: -1\n"
          ],
          "name": "stdout"
        },
        {
          "output_type": "execute_result",
          "data": {
            "text/plain": [
              "4.0"
            ]
          },
          "metadata": {
            "tags": []
          },
          "execution_count": 38
        }
      ]
    },
    {
      "cell_type": "code",
      "metadata": {
        "id": "iY7E61DiFiaK",
        "colab_type": "code",
        "colab": {}
      },
      "source": [
        "def f4(*args, c=1, **kw_args):\n",
        "    for k, v in kw_args.items():\n",
        "        print(\"Key: {}, Value: {}\".format(k, v))\n",
        "    return sum(args) / c"
      ],
      "execution_count": 0,
      "outputs": []
    },
    {
      "cell_type": "code",
      "metadata": {
        "id": "oWxNKR7bHIqR",
        "colab_type": "code",
        "outputId": "986e5d99-ebc5-42fc-878e-cf8eb5b5f1d2",
        "colab": {
          "base_uri": "https://localhost:8080/",
          "height": 68
        }
      },
      "source": [
        "f4(3, 5, 4, c=3, x=-1, y=\"Foo!\")"
      ],
      "execution_count": 0,
      "outputs": [
        {
          "output_type": "stream",
          "text": [
            "Key: x, Value: -1\n",
            "Key: y, Value: Foo!\n"
          ],
          "name": "stdout"
        },
        {
          "output_type": "execute_result",
          "data": {
            "text/plain": [
              "4.0"
            ]
          },
          "metadata": {
            "tags": []
          },
          "execution_count": 42
        }
      ]
    },
    {
      "cell_type": "code",
      "metadata": {
        "id": "z4bY2yoZHNe6",
        "colab_type": "code",
        "colab": {}
      },
      "source": [
        "def g4(*args, sep=\"; \", **kwargs):\n",
        "    s = str(sep).join(map(str, args))\n",
        "    print(s)\n",
        "    return f4(*args, **kwargs)"
      ],
      "execution_count": 0,
      "outputs": []
    },
    {
      "cell_type": "code",
      "metadata": {
        "id": "WVR91qQpH4cz",
        "colab_type": "code",
        "outputId": "7d0485bf-2163-4978-a600-353fe72b48b2",
        "colab": {
          "base_uri": "https://localhost:8080/",
          "height": 68
        }
      },
      "source": [
        "g4(3, 5, 4, )"
      ],
      "execution_count": 0,
      "outputs": [
        {
          "output_type": "stream",
          "text": [
            "3<>5<>4\n",
            "Key: x, Value: -1\n"
          ],
          "name": "stdout"
        },
        {
          "output_type": "execute_result",
          "data": {
            "text/plain": [
              "4.0"
            ]
          },
          "metadata": {
            "tags": []
          },
          "execution_count": 44
        }
      ]
    },
    {
      "cell_type": "code",
      "metadata": {
        "id": "81xTv_pcgKOz",
        "colab_type": "code",
        "colab": {}
      },
      "source": [
        "def my_function(*, c=0, d=0, ):\n",
        "    pass"
      ],
      "execution_count": 0,
      "outputs": []
    },
    {
      "cell_type": "code",
      "metadata": {
        "id": "8rQoPCilhgyJ",
        "colab_type": "code",
        "outputId": "d718b4dc-b04a-47a5-9549-83d389a9cfb4",
        "colab": {
          "base_uri": "https://localhost:8080/",
          "height": 164
        }
      },
      "source": [
        "my_function(1, 2)"
      ],
      "execution_count": 0,
      "outputs": [
        {
          "output_type": "error",
          "ename": "TypeError",
          "evalue": "ignored",
          "traceback": [
            "\u001b[0;31m---------------------------------------------------------------------------\u001b[0m",
            "\u001b[0;31mTypeError\u001b[0m                                 Traceback (most recent call last)",
            "\u001b[0;32m<ipython-input-48-34659f2eba50>\u001b[0m in \u001b[0;36m<module>\u001b[0;34m()\u001b[0m\n\u001b[0;32m----> 1\u001b[0;31m \u001b[0mmy_function\u001b[0m\u001b[0;34m(\u001b[0m\u001b[0;36m1\u001b[0m\u001b[0;34m,\u001b[0m \u001b[0;36m2\u001b[0m\u001b[0;34m)\u001b[0m\u001b[0;34m\u001b[0m\u001b[0;34m\u001b[0m\u001b[0m\n\u001b[0m",
            "\u001b[0;31mTypeError\u001b[0m: my_function() takes 0 positional arguments but 2 were given"
          ]
        }
      ]
    },
    {
      "cell_type": "code",
      "metadata": {
        "id": "1n-FBRPnII4V",
        "colab_type": "code",
        "colab": {}
      },
      "source": [
        "h = lambda **x: sum(x.values())"
      ],
      "execution_count": 0,
      "outputs": []
    },
    {
      "cell_type": "code",
      "metadata": {
        "id": "TtebDy85J_Zc",
        "colab_type": "code",
        "outputId": "fb605b52-70dd-4585-bfa7-31c83b457ee9",
        "colab": {
          "base_uri": "https://localhost:8080/",
          "height": 34
        }
      },
      "source": [
        "h"
      ],
      "execution_count": 0,
      "outputs": [
        {
          "output_type": "execute_result",
          "data": {
            "text/plain": [
              "<function __main__.<lambda>>"
            ]
          },
          "metadata": {
            "tags": []
          },
          "execution_count": 50
        }
      ]
    },
    {
      "cell_type": "code",
      "metadata": {
        "id": "V5obupE7KHYx",
        "colab_type": "code",
        "outputId": "029bfb19-e577-4e1c-a7d4-021bbafe505a",
        "colab": {
          "base_uri": "https://localhost:8080/",
          "height": 34
        }
      },
      "source": [
        "h(a=5, b=7, c=12)"
      ],
      "execution_count": 0,
      "outputs": [
        {
          "output_type": "execute_result",
          "data": {
            "text/plain": [
              "24"
            ]
          },
          "metadata": {
            "tags": []
          },
          "execution_count": 55
        }
      ]
    },
    {
      "cell_type": "code",
      "metadata": {
        "id": "LbcDzGNmKKa5",
        "colab_type": "code",
        "colab": {}
      },
      "source": [
        "list_of_strings = [\"ABC\", \"Hello, World!\", \"FooBar\", \"Make HSE great again!aa\", \"AAA A BD\", \"abc\", \"1A\"]"
      ],
      "execution_count": 0,
      "outputs": []
    },
    {
      "cell_type": "code",
      "metadata": {
        "id": "8iuLhC0xiwAx",
        "colab_type": "code",
        "outputId": "fa36f8b1-a594-4ab8-95a7-28801cf9acc7",
        "colab": {
          "base_uri": "https://localhost:8080/",
          "height": 136
        }
      },
      "source": [
        "sorted(list_of_strings)"
      ],
      "execution_count": 0,
      "outputs": [
        {
          "output_type": "execute_result",
          "data": {
            "text/plain": [
              "['1A',\n",
              " 'AAA A BD',\n",
              " 'ABC',\n",
              " 'FooBar',\n",
              " 'Hello, World!',\n",
              " 'Make HSE great again!aa',\n",
              " 'abc']"
            ]
          },
          "metadata": {
            "tags": []
          },
          "execution_count": 69
        }
      ]
    },
    {
      "cell_type": "code",
      "metadata": {
        "id": "_cp7enlxjGog",
        "colab_type": "code",
        "outputId": "78e11ba8-7a96-436e-d76d-28d48f9ec412",
        "colab": {
          "base_uri": "https://localhost:8080/",
          "height": 136
        }
      },
      "source": [
        "sorted(list_of_strings, key=len)"
      ],
      "execution_count": 0,
      "outputs": [
        {
          "output_type": "execute_result",
          "data": {
            "text/plain": [
              "['1A',\n",
              " 'ABC',\n",
              " 'abc',\n",
              " 'FooBar',\n",
              " 'AAA A BD',\n",
              " 'Hello, World!',\n",
              " 'Make HSE great again!aa']"
            ]
          },
          "metadata": {
            "tags": []
          },
          "execution_count": 63
        }
      ]
    },
    {
      "cell_type": "code",
      "metadata": {
        "id": "eWx2_oxVLEuB",
        "colab_type": "code",
        "outputId": "cb74dac2-1f90-45f1-cef7-b9f63733fcd0",
        "colab": {
          "base_uri": "https://localhost:8080/",
          "height": 136
        }
      },
      "source": [
        "sorted(list_of_strings, key=lambda x: len(x.split(\" \")) + (1 - 1 / len(x)))"
      ],
      "execution_count": 0,
      "outputs": [
        {
          "output_type": "execute_result",
          "data": {
            "text/plain": [
              "['1A',\n",
              " 'ABC',\n",
              " 'abc',\n",
              " 'FooBar',\n",
              " 'Hello, World!',\n",
              " 'AAA A BD',\n",
              " 'Make HSE great again!aa']"
            ]
          },
          "metadata": {
            "tags": []
          },
          "execution_count": 70
        }
      ]
    },
    {
      "cell_type": "code",
      "metadata": {
        "id": "feWlLo2HLNLZ",
        "colab_type": "code",
        "colab": {}
      },
      "source": [
        ""
      ],
      "execution_count": 0,
      "outputs": []
    }
  ]
}